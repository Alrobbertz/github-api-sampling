{
 "cells": [
  {
   "cell_type": "code",
   "execution_count": 1,
   "metadata": {},
   "outputs": [],
   "source": [
    "import csv\n",
    "import numpy as np\n",
    "from sample import exhaust_range\n"
   ]
  },
  {
   "cell_type": "code",
   "execution_count": 2,
   "metadata": {},
   "outputs": [],
   "source": [
    "# Set Query Bounds\n",
    "id_low = 0\n",
    "id_high = 200000\n",
    "\n",
    "# Set Granularity\n",
    "granularity=250"
   ]
  },
  {
   "cell_type": "code",
   "execution_count": 3,
   "metadata": {},
   "outputs": [
    {
     "name": "stdout",
     "output_type": "stream",
     "text": [
      "Sampling from ID: 0 with Granularity: 250\n",
      "Sampling from ID: 7915 with Granularity: 250\n",
      "Sampling from ID: 15902 with Granularity: 250\n",
      "Sampling from ID: 23876 with Granularity: 250\n",
      "Sampling from ID: 31801 with Granularity: 250\n",
      "Sampling from ID: 39806 with Granularity: 250\n",
      "Sampling from ID: 47919 with Granularity: 250\n",
      "Sampling from ID: 55978 with Granularity: 250\n",
      "Sampling from ID: 64040 with Granularity: 250\n",
      "Sampling from ID: 72072 with Granularity: 250\n",
      "Sampling from ID: 80122 with Granularity: 250\n",
      "Sampling from ID: 88139 with Granularity: 250\n",
      "Sampling from ID: 96156 with Granularity: 250\n",
      "Sampling from ID: 104182 with Granularity: 250\n",
      "Sampling from ID: 112218 with Granularity: 250\n",
      "Sampling from ID: 120219 with Granularity: 250\n",
      "Sampling from ID: 128247 with Granularity: 250\n",
      "Sampling from ID: 136334 with Granularity: 250\n",
      "going to sleep zzz...\n",
      "sleept for 10 minutes\n",
      "sleept for 20 minutes\n",
      "sleept for 30 minutes\n",
      "sleept for 40 minutes\n",
      "sleept for 50 minutes\n",
      "sleept for 60 minutes\n",
      "WAKE UP\n",
      "Sampling from ID: 144435 with Granularity: 250\n",
      "Sampling from ID: 152575 with Granularity: 250\n",
      "Sampling from ID: 160667 with Granularity: 250\n",
      "Sampling from ID: 169885 with Granularity: 250\n",
      "Sampling from ID: 178370 with Granularity: 250\n",
      "Sampling from ID: 186462 with Granularity: 250\n",
      "Sampling from ID: 194504 with Granularity: 250\n",
      "WE FOUND IT!!!!\n"
     ]
    },
    {
     "data": {
      "text/plain": [
       "185132"
      ]
     },
     "execution_count": 3,
     "metadata": {},
     "output_type": "execute_result"
    }
   ],
   "source": [
    "# Exhaust the range\n",
    "active_users = exhaust_range(id_low, id_high, granularity)\n",
    "\n",
    "active_users"
   ]
  },
  {
   "cell_type": "code",
   "execution_count": null,
   "metadata": {},
   "outputs": [],
   "source": []
  }
 ],
 "metadata": {
  "kernelspec": {
   "display_name": "Python 3",
   "language": "python",
   "name": "python3"
  },
  "language_info": {
   "codemirror_mode": {
    "name": "ipython",
    "version": 3
   },
   "file_extension": ".py",
   "mimetype": "text/x-python",
   "name": "python",
   "nbconvert_exporter": "python",
   "pygments_lexer": "ipython3",
   "version": "3.8.1"
  }
 },
 "nbformat": 4,
 "nbformat_minor": 4
}
