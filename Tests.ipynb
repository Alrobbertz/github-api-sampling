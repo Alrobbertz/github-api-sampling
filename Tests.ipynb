{
 "cells": [
  {
   "cell_type": "code",
   "execution_count": 28,
   "metadata": {},
   "outputs": [],
   "source": [
    "from sample import requests, headers\n",
    "\n",
    "response=requests.get(f'https://api.github.com/search/users?q=created:2020-02-03..2020-02-04', headers=headers)\n",
    "data = response.json()"
   ]
  },
  {
   "cell_type": "code",
   "execution_count": 29,
   "metadata": {},
   "outputs": [
    {
     "data": {
      "text/plain": [
       "[60588536,\n",
       " 60597053,\n",
       " 60597192,\n",
       " 60597222,\n",
       " 60597271,\n",
       " 60597338,\n",
       " 60597357,\n",
       " 60597359,\n",
       " 60597401,\n",
       " 60597402,\n",
       " 60597520,\n",
       " 60597553,\n",
       " 60597565,\n",
       " 60599923,\n",
       " 60600423,\n",
       " 60600426,\n",
       " 60608856,\n",
       " 60608858,\n",
       " 60608867,\n",
       " 60608983,\n",
       " 60609029,\n",
       " 60609060,\n",
       " 60609130,\n",
       " 60609243,\n",
       " 60609245,\n",
       " 60612881,\n",
       " 60638587,\n",
       " 60647035,\n",
       " 60647094,\n",
       " 60654216]"
      ]
     },
     "execution_count": 29,
     "metadata": {},
     "output_type": "execute_result"
    }
   ],
   "source": [
    "sorted([user['id'] for user in data['items']])"
   ]
  },
  {
   "cell_type": "code",
   "execution_count": 32,
   "metadata": {},
   "outputs": [],
   "source": [
    "response = requests.get('https://api.github.com/users?since='+str(60654306), headers=headers)\n",
    "data = response.json()"
   ]
  },
  {
   "cell_type": "code",
   "execution_count": 33,
   "metadata": {},
   "outputs": [
    {
     "data": {
      "text/plain": [
       "[60654307,\n",
       " 60654308,\n",
       " 60654309,\n",
       " 60654310,\n",
       " 60654311,\n",
       " 60654312,\n",
       " 60654313,\n",
       " 60654314,\n",
       " 60654315,\n",
       " 60654316,\n",
       " 60654317,\n",
       " 60654318,\n",
       " 60654319,\n",
       " 60654320,\n",
       " 60654321,\n",
       " 60654322,\n",
       " 60654323,\n",
       " 60654325,\n",
       " 60654326,\n",
       " 60654327,\n",
       " 60654328,\n",
       " 60654329,\n",
       " 60654330,\n",
       " 60654331,\n",
       " 60654332,\n",
       " 60654333,\n",
       " 60654334,\n",
       " 60654335,\n",
       " 60654337,\n",
       " 60654338]"
      ]
     },
     "execution_count": 33,
     "metadata": {},
     "output_type": "execute_result"
    }
   ],
   "source": [
    "[user['id'] for user in data]"
   ]
  },
  {
   "cell_type": "code",
   "execution_count": 2,
   "metadata": {},
   "outputs": [
    {
     "name": "stdout",
     "output_type": "stream",
     "text": [
      "{'John': 425, 'Liz': 212, 'Isaac': 345}\n"
     ]
    }
   ],
   "source": [
    "room_num = {'John': 425, 'Liz': 212}\n",
    "room_num['Isaac'] = 345\n",
    "print(room_num)"
   ]
  },
  {
   "cell_type": "code",
   "execution_count": null,
   "metadata": {},
   "outputs": [],
   "source": []
  }
 ],
 "metadata": {
  "kernelspec": {
   "display_name": "CS586-P1-Sampling",
   "language": "python",
   "name": "sampling"
  },
  "language_info": {
   "codemirror_mode": {
    "name": "ipython",
    "version": 3
   },
   "file_extension": ".py",
   "mimetype": "text/x-python",
   "name": "python",
   "nbconvert_exporter": "python",
   "pygments_lexer": "ipython3",
   "version": "3.8.1"
  }
 },
 "nbformat": 4,
 "nbformat_minor": 4
}
